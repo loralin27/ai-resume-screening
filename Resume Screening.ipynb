{
 "cells": [
  {
   "cell_type": "markdown",
   "id": "325e5e40-4421-4265-be40-6bab223e33cd",
   "metadata": {},
   "source": [
    "### Installing Required Packages ###"
   ]
  },
  {
   "cell_type": "code",
   "execution_count": 2,
   "id": "3642dea3-048f-466a-a86d-c624fef217f7",
   "metadata": {},
   "outputs": [
    {
     "name": "stdout",
     "output_type": "stream",
     "text": [
      "Requirement already satisfied: pandas in c:\\users\\hp\\anaconda3\\lib\\site-packages (2.1.4)\n",
      "Requirement already satisfied: scikit-learn in c:\\users\\hp\\anaconda3\\lib\\site-packages (1.2.2)\n",
      "Requirement already satisfied: nltk in c:\\users\\hp\\anaconda3\\lib\\site-packages (3.8.1)\n",
      "Requirement already satisfied: spacy in c:\\users\\hp\\anaconda3\\lib\\site-packages (3.8.7)\n",
      "Requirement already satisfied: matplotlib in c:\\users\\hp\\anaconda3\\lib\\site-packages (3.8.0)\n",
      "Requirement already satisfied: seaborn in c:\\users\\hp\\anaconda3\\lib\\site-packages (0.12.2)\n",
      "Requirement already satisfied: numpy<2,>=1.23.2 in c:\\users\\hp\\anaconda3\\lib\\site-packages (from pandas) (1.26.4)\n",
      "Requirement already satisfied: python-dateutil>=2.8.2 in c:\\users\\hp\\anaconda3\\lib\\site-packages (from pandas) (2.8.2)\n",
      "Requirement already satisfied: pytz>=2020.1 in c:\\users\\hp\\anaconda3\\lib\\site-packages (from pandas) (2023.3.post1)\n",
      "Requirement already satisfied: tzdata>=2022.1 in c:\\users\\hp\\anaconda3\\lib\\site-packages (from pandas) (2023.3)\n",
      "Requirement already satisfied: scipy>=1.3.2 in c:\\users\\hp\\anaconda3\\lib\\site-packages (from scikit-learn) (1.11.4)\n",
      "Requirement already satisfied: joblib>=1.1.1 in c:\\users\\hp\\anaconda3\\lib\\site-packages (from scikit-learn) (1.2.0)\n",
      "Requirement already satisfied: threadpoolctl>=2.0.0 in c:\\users\\hp\\anaconda3\\lib\\site-packages (from scikit-learn) (2.2.0)\n",
      "Requirement already satisfied: click in c:\\users\\hp\\anaconda3\\lib\\site-packages (from nltk) (8.1.7)\n",
      "Requirement already satisfied: regex>=2021.8.3 in c:\\users\\hp\\anaconda3\\lib\\site-packages (from nltk) (2023.10.3)\n",
      "Requirement already satisfied: tqdm in c:\\users\\hp\\anaconda3\\lib\\site-packages (from nltk) (4.65.0)\n",
      "Requirement already satisfied: spacy-legacy<3.1.0,>=3.0.11 in c:\\users\\hp\\anaconda3\\lib\\site-packages (from spacy) (3.0.12)\n",
      "Requirement already satisfied: spacy-loggers<2.0.0,>=1.0.0 in c:\\users\\hp\\anaconda3\\lib\\site-packages (from spacy) (1.0.5)\n",
      "Requirement already satisfied: murmurhash<1.1.0,>=0.28.0 in c:\\users\\hp\\anaconda3\\lib\\site-packages (from spacy) (1.0.13)\n",
      "Requirement already satisfied: cymem<2.1.0,>=2.0.2 in c:\\users\\hp\\anaconda3\\lib\\site-packages (from spacy) (2.0.11)\n",
      "Requirement already satisfied: preshed<3.1.0,>=3.0.2 in c:\\users\\hp\\anaconda3\\lib\\site-packages (from spacy) (3.0.10)\n",
      "Requirement already satisfied: thinc<8.4.0,>=8.3.4 in c:\\users\\hp\\anaconda3\\lib\\site-packages (from spacy) (8.3.4)\n",
      "Requirement already satisfied: wasabi<1.2.0,>=0.9.1 in c:\\users\\hp\\anaconda3\\lib\\site-packages (from spacy) (1.1.3)\n",
      "Requirement already satisfied: srsly<3.0.0,>=2.4.3 in c:\\users\\hp\\anaconda3\\lib\\site-packages (from spacy) (2.5.1)\n",
      "Requirement already satisfied: catalogue<2.1.0,>=2.0.6 in c:\\users\\hp\\anaconda3\\lib\\site-packages (from spacy) (2.0.10)\n",
      "Requirement already satisfied: weasel<0.5.0,>=0.1.0 in c:\\users\\hp\\anaconda3\\lib\\site-packages (from spacy) (0.4.1)\n",
      "Requirement already satisfied: typer<1.0.0,>=0.3.0 in c:\\users\\hp\\anaconda3\\lib\\site-packages (from spacy) (0.16.0)\n",
      "Requirement already satisfied: requests<3.0.0,>=2.13.0 in c:\\users\\hp\\anaconda3\\lib\\site-packages (from spacy) (2.31.0)\n",
      "Requirement already satisfied: pydantic!=1.8,!=1.8.1,<3.0.0,>=1.7.4 in c:\\users\\hp\\anaconda3\\lib\\site-packages (from spacy) (1.10.12)\n",
      "Requirement already satisfied: jinja2 in c:\\users\\hp\\anaconda3\\lib\\site-packages (from spacy) (3.1.3)\n",
      "Requirement already satisfied: setuptools in c:\\users\\hp\\anaconda3\\lib\\site-packages (from spacy) (68.2.2)\n",
      "Requirement already satisfied: packaging>=20.0 in c:\\users\\hp\\anaconda3\\lib\\site-packages (from spacy) (23.1)\n",
      "Requirement already satisfied: langcodes<4.0.0,>=3.2.0 in c:\\users\\hp\\anaconda3\\lib\\site-packages (from spacy) (3.5.0)\n",
      "Requirement already satisfied: contourpy>=1.0.1 in c:\\users\\hp\\anaconda3\\lib\\site-packages (from matplotlib) (1.2.0)\n",
      "Requirement already satisfied: cycler>=0.10 in c:\\users\\hp\\anaconda3\\lib\\site-packages (from matplotlib) (0.11.0)\n",
      "Requirement already satisfied: fonttools>=4.22.0 in c:\\users\\hp\\anaconda3\\lib\\site-packages (from matplotlib) (4.25.0)\n",
      "Requirement already satisfied: kiwisolver>=1.0.1 in c:\\users\\hp\\anaconda3\\lib\\site-packages (from matplotlib) (1.4.4)\n",
      "Requirement already satisfied: pillow>=6.2.0 in c:\\users\\hp\\anaconda3\\lib\\site-packages (from matplotlib) (10.2.0)\n",
      "Requirement already satisfied: pyparsing>=2.3.1 in c:\\users\\hp\\anaconda3\\lib\\site-packages (from matplotlib) (3.0.9)\n",
      "Requirement already satisfied: language-data>=1.2 in c:\\users\\hp\\anaconda3\\lib\\site-packages (from langcodes<4.0.0,>=3.2.0->spacy) (1.3.0)\n",
      "Requirement already satisfied: typing-extensions>=4.2.0 in c:\\users\\hp\\anaconda3\\lib\\site-packages (from pydantic!=1.8,!=1.8.1,<3.0.0,>=1.7.4->spacy) (4.9.0)\n",
      "Requirement already satisfied: six>=1.5 in c:\\users\\hp\\anaconda3\\lib\\site-packages (from python-dateutil>=2.8.2->pandas) (1.16.0)\n",
      "Requirement already satisfied: charset-normalizer<4,>=2 in c:\\users\\hp\\anaconda3\\lib\\site-packages (from requests<3.0.0,>=2.13.0->spacy) (2.0.4)\n",
      "Requirement already satisfied: idna<4,>=2.5 in c:\\users\\hp\\anaconda3\\lib\\site-packages (from requests<3.0.0,>=2.13.0->spacy) (3.4)\n",
      "Requirement already satisfied: urllib3<3,>=1.21.1 in c:\\users\\hp\\anaconda3\\lib\\site-packages (from requests<3.0.0,>=2.13.0->spacy) (2.0.7)\n",
      "Requirement already satisfied: certifi>=2017.4.17 in c:\\users\\hp\\anaconda3\\lib\\site-packages (from requests<3.0.0,>=2.13.0->spacy) (2024.2.2)\n",
      "Requirement already satisfied: blis<1.3.0,>=1.2.0 in c:\\users\\hp\\anaconda3\\lib\\site-packages (from thinc<8.4.0,>=8.3.4->spacy) (1.2.1)\n",
      "Requirement already satisfied: confection<1.0.0,>=0.0.1 in c:\\users\\hp\\anaconda3\\lib\\site-packages (from thinc<8.4.0,>=8.3.4->spacy) (0.1.5)\n",
      "Requirement already satisfied: colorama in c:\\users\\hp\\anaconda3\\lib\\site-packages (from tqdm->nltk) (0.4.6)\n",
      "Requirement already satisfied: shellingham>=1.3.0 in c:\\users\\hp\\anaconda3\\lib\\site-packages (from typer<1.0.0,>=0.3.0->spacy) (1.5.4)\n",
      "Requirement already satisfied: rich>=10.11.0 in c:\\users\\hp\\anaconda3\\lib\\site-packages (from typer<1.0.0,>=0.3.0->spacy) (13.3.5)\n",
      "Requirement already satisfied: cloudpathlib<1.0.0,>=0.7.0 in c:\\users\\hp\\anaconda3\\lib\\site-packages (from weasel<0.5.0,>=0.1.0->spacy) (0.21.1)\n",
      "Requirement already satisfied: smart-open<8.0.0,>=5.2.1 in c:\\users\\hp\\anaconda3\\lib\\site-packages (from weasel<0.5.0,>=0.1.0->spacy) (5.2.1)\n",
      "Requirement already satisfied: MarkupSafe>=2.0 in c:\\users\\hp\\anaconda3\\lib\\site-packages (from jinja2->spacy) (2.1.3)\n",
      "Requirement already satisfied: marisa-trie>=1.1.0 in c:\\users\\hp\\anaconda3\\lib\\site-packages (from language-data>=1.2->langcodes<4.0.0,>=3.2.0->spacy) (1.2.1)\n",
      "Requirement already satisfied: markdown-it-py<3.0.0,>=2.2.0 in c:\\users\\hp\\anaconda3\\lib\\site-packages (from rich>=10.11.0->typer<1.0.0,>=0.3.0->spacy) (2.2.0)\n",
      "Requirement already satisfied: pygments<3.0.0,>=2.13.0 in c:\\users\\hp\\anaconda3\\lib\\site-packages (from rich>=10.11.0->typer<1.0.0,>=0.3.0->spacy) (2.15.1)\n",
      "Requirement already satisfied: mdurl~=0.1 in c:\\users\\hp\\anaconda3\\lib\\site-packages (from markdown-it-py<3.0.0,>=2.2.0->rich>=10.11.0->typer<1.0.0,>=0.3.0->spacy) (0.1.0)\n"
     ]
    }
   ],
   "source": [
    "!pip install pandas scikit-learn nltk spacy matplotlib seaborn\n",
    "\n"
   ]
  },
  {
   "cell_type": "code",
   "execution_count": 3,
   "id": "03ca4cec-4561-4cba-890a-3de713623263",
   "metadata": {},
   "outputs": [
    {
     "name": "stdout",
     "output_type": "stream",
     "text": [
      "Collecting en-core-web-sm==3.8.0\n",
      "  Downloading https://github.com/explosion/spacy-models/releases/download/en_core_web_sm-3.8.0/en_core_web_sm-3.8.0-py3-none-any.whl (12.8 MB)\n",
      "     ---------------------------------------- 0.0/12.8 MB ? eta -:--:--\n",
      "     ---------------------------------------- 0.0/12.8 MB ? eta -:--:--\n",
      "     --------------------------------------- 0.0/12.8 MB 217.9 kB/s eta 0:00:59\n",
      "     --------------------------------------- 0.0/12.8 MB 186.2 kB/s eta 0:01:09\n",
      "     --------------------------------------- 0.0/12.8 MB 186.2 kB/s eta 0:01:09\n",
      "     --------------------------------------- 0.1/12.8 MB 252.2 kB/s eta 0:00:51\n",
      "     --------------------------------------- 0.1/12.8 MB 409.6 kB/s eta 0:00:31\n",
      "     --------------------------------------- 0.2/12.8 MB 517.2 kB/s eta 0:00:25\n",
      "      -------------------------------------- 0.3/12.8 MB 714.4 kB/s eta 0:00:18\n",
      "      -------------------------------------- 0.3/12.8 MB 791.9 kB/s eta 0:00:16\n",
      "     - ------------------------------------- 0.4/12.8 MB 970.6 kB/s eta 0:00:13\n",
      "     - -------------------------------------- 0.5/12.8 MB 1.0 MB/s eta 0:00:13\n",
      "     - -------------------------------------- 0.6/12.8 MB 1.1 MB/s eta 0:00:11\n",
      "     -- ------------------------------------- 0.7/12.8 MB 1.2 MB/s eta 0:00:10\n",
      "     -- ------------------------------------- 0.7/12.8 MB 1.2 MB/s eta 0:00:10\n",
      "     -- ------------------------------------- 0.8/12.8 MB 1.2 MB/s eta 0:00:10\n",
      "     -- ------------------------------------- 0.9/12.8 MB 1.3 MB/s eta 0:00:09\n",
      "     -- ------------------------------------- 1.0/12.8 MB 1.4 MB/s eta 0:00:09\n",
      "     --- ------------------------------------ 1.1/12.8 MB 1.4 MB/s eta 0:00:09\n",
      "     --- ------------------------------------ 1.2/12.8 MB 1.5 MB/s eta 0:00:08\n",
      "     --- ------------------------------------ 1.3/12.8 MB 1.5 MB/s eta 0:00:08\n",
      "     ---- ----------------------------------- 1.4/12.8 MB 1.5 MB/s eta 0:00:08\n",
      "     ---- ----------------------------------- 1.4/12.8 MB 1.5 MB/s eta 0:00:08\n",
      "     ----- ---------------------------------- 1.6/12.8 MB 1.6 MB/s eta 0:00:08\n",
      "     ----- ---------------------------------- 1.6/12.8 MB 1.6 MB/s eta 0:00:08\n",
      "     ----- ---------------------------------- 1.7/12.8 MB 1.5 MB/s eta 0:00:08\n",
      "     ----- ---------------------------------- 1.8/12.8 MB 1.6 MB/s eta 0:00:08\n",
      "     ----- ---------------------------------- 1.9/12.8 MB 1.6 MB/s eta 0:00:07\n",
      "     ------ --------------------------------- 2.0/12.8 MB 1.6 MB/s eta 0:00:07\n",
      "     ------ --------------------------------- 2.0/12.8 MB 1.6 MB/s eta 0:00:07\n",
      "     ------ --------------------------------- 2.0/12.8 MB 1.5 MB/s eta 0:00:08\n",
      "     ------ --------------------------------- 2.2/12.8 MB 1.6 MB/s eta 0:00:07\n",
      "     ------- -------------------------------- 2.3/12.8 MB 1.6 MB/s eta 0:00:07\n",
      "     ------- -------------------------------- 2.3/12.8 MB 1.6 MB/s eta 0:00:07\n",
      "     ------- -------------------------------- 2.5/12.8 MB 1.7 MB/s eta 0:00:07\n",
      "     -------- ------------------------------- 2.6/12.8 MB 1.7 MB/s eta 0:00:07\n",
      "     -------- ------------------------------- 2.7/12.8 MB 1.7 MB/s eta 0:00:06\n",
      "     --------- ------------------------------ 2.9/12.8 MB 1.8 MB/s eta 0:00:06\n",
      "     --------- ------------------------------ 3.0/12.8 MB 1.8 MB/s eta 0:00:06\n",
      "     --------- ------------------------------ 3.1/12.8 MB 1.8 MB/s eta 0:00:06\n",
      "     ---------- ----------------------------- 3.4/12.8 MB 1.9 MB/s eta 0:00:05\n",
      "     ---------- ----------------------------- 3.5/12.8 MB 1.9 MB/s eta 0:00:05\n",
      "     ----------- ---------------------------- 3.7/12.8 MB 2.0 MB/s eta 0:00:05\n",
      "     ------------ --------------------------- 3.9/12.8 MB 2.0 MB/s eta 0:00:05\n",
      "     ------------- -------------------------- 4.2/12.8 MB 2.1 MB/s eta 0:00:05\n",
      "     ------------- -------------------------- 4.3/12.8 MB 2.1 MB/s eta 0:00:04\n",
      "     ------------- -------------------------- 4.4/12.8 MB 2.1 MB/s eta 0:00:04\n",
      "     -------------- ------------------------- 4.6/12.8 MB 2.2 MB/s eta 0:00:04\n",
      "     --------------- ------------------------ 4.8/12.8 MB 2.3 MB/s eta 0:00:04\n",
      "     --------------- ------------------------ 5.0/12.8 MB 2.3 MB/s eta 0:00:04\n",
      "     ---------------- ----------------------- 5.3/12.8 MB 2.3 MB/s eta 0:00:04\n",
      "     ----------------- ---------------------- 5.5/12.8 MB 2.4 MB/s eta 0:00:04\n",
      "     ----------------- ---------------------- 5.6/12.8 MB 2.4 MB/s eta 0:00:04\n",
      "     ----------------- ---------------------- 5.6/12.8 MB 2.4 MB/s eta 0:00:04\n",
      "     ------------------ --------------------- 5.8/12.8 MB 2.4 MB/s eta 0:00:03\n",
      "     ------------------ --------------------- 5.8/12.8 MB 2.4 MB/s eta 0:00:03\n",
      "     ------------------ --------------------- 6.0/12.8 MB 2.4 MB/s eta 0:00:03\n",
      "     ------------------- -------------------- 6.1/12.8 MB 2.4 MB/s eta 0:00:03\n",
      "     ------------------- -------------------- 6.3/12.8 MB 2.4 MB/s eta 0:00:03\n",
      "     -------------------- ------------------- 6.4/12.8 MB 2.4 MB/s eta 0:00:03\n",
      "     -------------------- ------------------- 6.5/12.8 MB 2.4 MB/s eta 0:00:03\n",
      "     -------------------- ------------------- 6.6/12.8 MB 2.4 MB/s eta 0:00:03\n",
      "     -------------------- ------------------- 6.6/12.8 MB 2.3 MB/s eta 0:00:03\n",
      "     -------------------- ------------------- 6.7/12.8 MB 2.3 MB/s eta 0:00:03\n",
      "     -------------------- ------------------- 6.7/12.8 MB 2.3 MB/s eta 0:00:03\n",
      "     -------------------- ------------------- 6.7/12.8 MB 2.3 MB/s eta 0:00:03\n",
      "     --------------------- ------------------ 6.7/12.8 MB 2.2 MB/s eta 0:00:03\n",
      "     --------------------- ------------------ 6.7/12.8 MB 2.2 MB/s eta 0:00:03\n",
      "     --------------------- ------------------ 6.7/12.8 MB 2.2 MB/s eta 0:00:03\n",
      "     --------------------- ------------------ 6.7/12.8 MB 2.2 MB/s eta 0:00:03\n",
      "     --------------------- ------------------ 6.7/12.8 MB 2.2 MB/s eta 0:00:03\n",
      "     --------------------- ------------------ 6.7/12.8 MB 2.2 MB/s eta 0:00:03\n",
      "     --------------------- ------------------ 6.7/12.8 MB 2.2 MB/s eta 0:00:03\n",
      "     --------------------- ------------------ 6.7/12.8 MB 2.2 MB/s eta 0:00:03\n",
      "     --------------------- ------------------ 6.9/12.8 MB 2.0 MB/s eta 0:00:03\n",
      "     --------------------- ------------------ 7.0/12.8 MB 2.0 MB/s eta 0:00:03\n",
      "     --------------------- ------------------ 7.0/12.8 MB 2.0 MB/s eta 0:00:03\n",
      "     ----------------------- ---------------- 7.4/12.8 MB 2.1 MB/s eta 0:00:03\n",
      "     ----------------------- ---------------- 7.6/12.8 MB 2.1 MB/s eta 0:00:03\n",
      "     ----------------------- ---------------- 7.7/12.8 MB 2.1 MB/s eta 0:00:03\n",
      "     ------------------------ --------------- 7.7/12.8 MB 2.1 MB/s eta 0:00:03\n",
      "     ------------------------ --------------- 7.8/12.8 MB 2.1 MB/s eta 0:00:03\n",
      "     ------------------------ --------------- 8.0/12.8 MB 2.1 MB/s eta 0:00:03\n",
      "     ------------------------ --------------- 8.0/12.8 MB 2.1 MB/s eta 0:00:03\n",
      "     ------------------------- -------------- 8.0/12.8 MB 2.1 MB/s eta 0:00:03\n",
      "     ------------------------- -------------- 8.0/12.8 MB 2.1 MB/s eta 0:00:03\n",
      "     ------------------------- -------------- 8.2/12.8 MB 2.1 MB/s eta 0:00:03\n",
      "     ------------------------- -------------- 8.2/12.8 MB 2.1 MB/s eta 0:00:03\n",
      "     -------------------------- ------------- 8.3/12.8 MB 2.1 MB/s eta 0:00:03\n",
      "     -------------------------- ------------- 8.3/12.8 MB 2.1 MB/s eta 0:00:03\n",
      "     -------------------------- ------------- 8.4/12.8 MB 2.0 MB/s eta 0:00:03\n",
      "     -------------------------- ------------- 8.5/12.8 MB 2.1 MB/s eta 0:00:03\n",
      "     -------------------------- ------------- 8.6/12.8 MB 2.0 MB/s eta 0:00:03\n",
      "     --------------------------- ------------ 8.8/12.8 MB 2.1 MB/s eta 0:00:02\n",
      "     ---------------------------- ----------- 9.0/12.8 MB 2.1 MB/s eta 0:00:02\n",
      "     ---------------------------- ----------- 9.1/12.8 MB 2.1 MB/s eta 0:00:02\n",
      "     ---------------------------- ----------- 9.2/12.8 MB 2.1 MB/s eta 0:00:02\n",
      "     ----------------------------- ---------- 9.5/12.8 MB 2.2 MB/s eta 0:00:02\n",
      "     ----------------------------- ---------- 9.6/12.8 MB 2.1 MB/s eta 0:00:02\n",
      "     ------------------------------ --------- 9.6/12.8 MB 2.1 MB/s eta 0:00:02\n",
      "     ------------------------------ --------- 9.8/12.8 MB 2.2 MB/s eta 0:00:02\n",
      "     ------------------------------- -------- 10.0/12.8 MB 2.2 MB/s eta 0:00:02\n",
      "     ------------------------------- -------- 10.1/12.8 MB 2.2 MB/s eta 0:00:02\n",
      "     -------------------------------- ------- 10.3/12.8 MB 2.3 MB/s eta 0:00:02\n",
      "     ---------------------------------- ----- 10.9/12.8 MB 2.4 MB/s eta 0:00:01\n",
      "     ---------------------------------- ----- 11.0/12.8 MB 2.4 MB/s eta 0:00:01\n",
      "     ----------------------------------- ---- 11.4/12.8 MB 2.5 MB/s eta 0:00:01\n",
      "     ------------------------------------ --- 11.6/12.8 MB 2.5 MB/s eta 0:00:01\n",
      "     ------------------------------------ --- 11.8/12.8 MB 2.5 MB/s eta 0:00:01\n",
      "     ------------------------------------- -- 12.2/12.8 MB 2.5 MB/s eta 0:00:01\n",
      "     ------------------------------------- -- 12.2/12.8 MB 2.5 MB/s eta 0:00:01\n",
      "     -------------------------------------- - 12.3/12.8 MB 2.6 MB/s eta 0:00:01\n",
      "     -------------------------------------- - 12.3/12.8 MB 2.6 MB/s eta 0:00:01\n",
      "     -------------------------------------- - 12.3/12.8 MB 2.6 MB/s eta 0:00:01\n",
      "     -------------------------------------- - 12.4/12.8 MB 2.5 MB/s eta 0:00:01\n",
      "     ---------------------------------------  12.6/12.8 MB 2.5 MB/s eta 0:00:01\n",
      "     ---------------------------------------  12.8/12.8 MB 2.5 MB/s eta 0:00:01\n",
      "     ---------------------------------------- 12.8/12.8 MB 2.5 MB/s eta 0:00:00\n",
      "\u001b[38;5;2m[+] Download and installation successful\u001b[0m\n",
      "You can now load the package via spacy.load('en_core_web_sm')\n"
     ]
    }
   ],
   "source": [
    "!python -m spacy download en_core_web_sm\n"
   ]
  },
  {
   "cell_type": "markdown",
   "id": "e873e059-de84-4e76-b9df-c2ee37388163",
   "metadata": {},
   "source": [
    "### Import Libraries ###"
   ]
  },
  {
   "cell_type": "code",
   "execution_count": 6,
   "id": "2ec048ce-4a0f-40cc-985e-eff170b67220",
   "metadata": {},
   "outputs": [
    {
     "name": "stderr",
     "output_type": "stream",
     "text": [
      "[nltk_data] Downloading package stopwords to\n",
      "[nltk_data]     C:\\Users\\Hp\\AppData\\Roaming\\nltk_data...\n",
      "[nltk_data]   Package stopwords is already up-to-date!\n"
     ]
    }
   ],
   "source": [
    "import pandas as pd\n",
    "import string\n",
    "import nltk\n",
    "import spacy\n",
    "import seaborn as sns\n",
    "import matplotlib.pyplot as plt\n",
    "from sklearn.model_selection import train_test_split\n",
    "from sklearn.feature_extraction.text import TfidfVectorizer\n",
    "from sklearn.naive_bayes import MultinomialNB\n",
    "from sklearn.linear_model import LogisticRegression\n",
    "from sklearn.svm import LinearSVC\n",
    "from sklearn.metrics import classification_report, confusion_matrix, accuracy_score\n",
    "\n",
    "nltk.download('stopwords')\n",
    "from nltk.corpus import stopwords\n",
    "stop_words = set(stopwords.words(\"english\"))\n",
    "\n",
    "nlp = spacy.load(\"en_core_web_sm\")\n"
   ]
  },
  {
   "cell_type": "markdown",
   "id": "b52df949-e883-48b9-8278-4a9bde81afed",
   "metadata": {},
   "source": [
    "### Load and Preprocess Resume Data"
   ]
  },
  {
   "cell_type": "code",
   "execution_count": 7,
   "id": "2b50862f-89a4-4fa6-9365-cccbb8781e34",
   "metadata": {},
   "outputs": [],
   "source": [
    "df = pd.read_csv(\"C:/Users/Hp/Downloads/Resume.csv.zip\")  \n",
    "df = df[[\"Resume_str\", \"Category\"]]  \n",
    "\n",
    "def clean_text(text):\n",
    "    doc = nlp(text.lower())\n",
    "    tokens = [\n",
    "        token.lemma_ for token in doc\n",
    "        if token.is_alpha and not token.is_stop and token.text not in stop_words\n",
    "    ]\n",
    "    return \" \".join(tokens)\n",
    "\n",
    "df[\"Cleaned\"] = df[\"Resume_str\"].apply(clean_text)\n"
   ]
  },
  {
   "cell_type": "code",
   "execution_count": 8,
   "id": "81a51dcd-d98c-453b-9627-2440162411f7",
   "metadata": {},
   "outputs": [
    {
     "name": "stdout",
     "output_type": "stream",
     "text": [
      "                                          Resume_str  \\\n",
      "0           HR ADMINISTRATOR/MARKETING ASSOCIATE\\...   \n",
      "1           HR SPECIALIST, US HR OPERATIONS      ...   \n",
      "2           HR DIRECTOR       Summary      Over 2...   \n",
      "3           HR SPECIALIST       Summary    Dedica...   \n",
      "4           HR MANAGER         Skill Highlights  ...   \n",
      "\n",
      "                                             Cleaned  \n",
      "0  hr administrator marketing associate hr admini...  \n",
      "1  hr specialist hr operation summary versatile m...  \n",
      "2  hr director summary year experience recruiting...  \n",
      "3  hr specialist summary dedicate driven dynamic ...  \n",
      "4  hr manager skill highlight hr skill hr departm...  \n"
     ]
    }
   ],
   "source": [
    "df_sample = df.head(5).copy()\n",
    "df_sample[\"Cleaned\"] = df_sample[\"Resume_str\"].apply(clean_text)\n",
    "print(df_sample[[\"Resume_str\", \"Cleaned\"]])\n"
   ]
  },
  {
   "cell_type": "code",
   "execution_count": 9,
   "id": "68c17ea2-84fe-4566-90af-2c0ac7223c50",
   "metadata": {},
   "outputs": [
    {
     "name": "stdout",
     "output_type": "stream",
     "text": [
      "                                          Resume_str  \\\n",
      "0           HR ADMINISTRATOR/MARKETING ASSOCIATE\\...   \n",
      "1           HR SPECIALIST, US HR OPERATIONS      ...   \n",
      "2           HR DIRECTOR       Summary      Over 2...   \n",
      "3           HR SPECIALIST       Summary    Dedica...   \n",
      "4           HR MANAGER         Skill Highlights  ...   \n",
      "\n",
      "                                             Cleaned  \n",
      "0  hr administrator marketing associate hr admini...  \n",
      "1  hr specialist hr operation summary versatile m...  \n",
      "2  hr director summary year experience recruiting...  \n",
      "3  hr specialist summary dedicate driven dynamic ...  \n",
      "4  hr manager skill highlight hr skill hr departm...  \n"
     ]
    }
   ],
   "source": [
    "print(df[[\"Resume_str\", \"Cleaned\"]].head())\n"
   ]
  },
  {
   "cell_type": "code",
   "execution_count": 16,
   "id": "710dff79-c481-4be6-b138-4004688c9af1",
   "metadata": {},
   "outputs": [
    {
     "name": "stdout",
     "output_type": "stream",
     "text": [
      "(2484, 3)\n"
     ]
    }
   ],
   "source": [
    "print (df.shape)"
   ]
  },
  {
   "cell_type": "markdown",
   "id": "ad854a52-054a-4b4e-bb21-7e6010e173a8",
   "metadata": {},
   "source": [
    "### TF-IDF and Split Data"
   ]
  },
  {
   "cell_type": "code",
   "execution_count": 12,
   "id": "59737588-c01d-49e4-92c3-8287cead8086",
   "metadata": {},
   "outputs": [],
   "source": [
    "tfidf = TfidfVectorizer(max_features=3000)\n",
    "X = tfidf.fit_transform(df[\"Cleaned\"])\n",
    "y = df[\"Category\"]\n",
    "\n",
    "X_train, X_test, y_train, y_test = train_test_split(X, y, test_size=0.2, random_state=42)\n"
   ]
  },
  {
   "cell_type": "markdown",
   "id": "88c235bd-fe10-49c3-9203-a56943380c0a",
   "metadata": {},
   "source": [
    "### Train all 3 Models and Evaluate"
   ]
  },
  {
   "cell_type": "code",
   "execution_count": 14,
   "id": "db1e857c-4cfd-4fa4-840d-c7ec1c9f562e",
   "metadata": {},
   "outputs": [
    {
     "name": "stdout",
     "output_type": "stream",
     "text": [
      "\n",
      "Training: Naive Bayes\n",
      "Accuracy: 0.5634\n",
      "Classification Report:\n",
      "                         precision    recall  f1-score   support\n",
      "\n",
      "            ACCOUNTANT       0.76      0.90      0.83        29\n",
      "              ADVOCATE       0.53      0.33      0.41        30\n",
      "           AGRICULTURE       1.00      0.12      0.22         8\n",
      "               APPAREL       0.86      0.30      0.44        20\n",
      "                  ARTS       0.20      0.06      0.09        18\n",
      "            AUTOMOBILE       0.00      0.00      0.00         6\n",
      "              AVIATION       0.67      0.76      0.71        21\n",
      "               BANKING       0.70      0.61      0.65        23\n",
      "                   BPO       0.00      0.00      0.00         2\n",
      "  BUSINESS-DEVELOPMENT       0.52      0.63      0.57        27\n",
      "                  CHEF       0.77      0.71      0.74        24\n",
      "          CONSTRUCTION       0.84      0.62      0.71        34\n",
      "            CONSULTANT       0.33      0.05      0.09        20\n",
      "              DESIGNER       0.82      0.74      0.78        19\n",
      "         DIGITAL-MEDIA       0.91      0.40      0.56        25\n",
      "           ENGINEERING       0.48      0.62      0.54        21\n",
      "               FINANCE       0.44      0.58      0.50        19\n",
      "               FITNESS       0.64      0.37      0.47        19\n",
      "            HEALTHCARE       0.30      0.55      0.39        20\n",
      "                    HR       0.56      0.83      0.67        18\n",
      "INFORMATION-TECHNOLOGY       0.44      0.88      0.59        26\n",
      "      PUBLIC-RELATIONS       0.43      0.76      0.55        17\n",
      "                 SALES       0.42      0.59      0.49        29\n",
      "               TEACHER       0.59      0.73      0.65        22\n",
      "\n",
      "              accuracy                           0.56       497\n",
      "             macro avg       0.55      0.51      0.48       497\n",
      "          weighted avg       0.59      0.56      0.54       497\n",
      "\n",
      "\n",
      "Training: Logistic Regression\n"
     ]
    },
    {
     "name": "stderr",
     "output_type": "stream",
     "text": [
      "C:\\Users\\Hp\\anaconda3\\Lib\\site-packages\\sklearn\\metrics\\_classification.py:1344: UndefinedMetricWarning: Precision and F-score are ill-defined and being set to 0.0 in labels with no predicted samples. Use `zero_division` parameter to control this behavior.\n",
      "  _warn_prf(average, modifier, msg_start, len(result))\n",
      "C:\\Users\\Hp\\anaconda3\\Lib\\site-packages\\sklearn\\metrics\\_classification.py:1344: UndefinedMetricWarning: Precision and F-score are ill-defined and being set to 0.0 in labels with no predicted samples. Use `zero_division` parameter to control this behavior.\n",
      "  _warn_prf(average, modifier, msg_start, len(result))\n",
      "C:\\Users\\Hp\\anaconda3\\Lib\\site-packages\\sklearn\\metrics\\_classification.py:1344: UndefinedMetricWarning: Precision and F-score are ill-defined and being set to 0.0 in labels with no predicted samples. Use `zero_division` parameter to control this behavior.\n",
      "  _warn_prf(average, modifier, msg_start, len(result))\n"
     ]
    },
    {
     "name": "stdout",
     "output_type": "stream",
     "text": [
      "Accuracy: 0.6459\n",
      "Classification Report:\n",
      "                         precision    recall  f1-score   support\n",
      "\n",
      "            ACCOUNTANT       0.81      0.86      0.83        29\n",
      "              ADVOCATE       0.55      0.60      0.57        30\n",
      "           AGRICULTURE       1.00      0.12      0.22         8\n",
      "               APPAREL       0.56      0.45      0.50        20\n",
      "                  ARTS       0.13      0.11      0.12        18\n",
      "            AUTOMOBILE       1.00      0.17      0.29         6\n",
      "              AVIATION       0.82      0.86      0.84        21\n",
      "               BANKING       0.77      0.74      0.76        23\n",
      "                   BPO       0.00      0.00      0.00         2\n",
      "  BUSINESS-DEVELOPMENT       0.78      0.52      0.62        27\n",
      "                  CHEF       0.85      0.71      0.77        24\n",
      "          CONSTRUCTION       0.90      0.76      0.83        34\n",
      "            CONSULTANT       0.46      0.30      0.36        20\n",
      "              DESIGNER       0.75      0.79      0.77        19\n",
      "         DIGITAL-MEDIA       0.89      0.68      0.77        25\n",
      "           ENGINEERING       0.52      0.67      0.58        21\n",
      "               FINANCE       0.65      0.58      0.61        19\n",
      "               FITNESS       0.92      0.63      0.75        19\n",
      "            HEALTHCARE       0.34      0.50      0.41        20\n",
      "                    HR       0.68      0.83      0.75        18\n",
      "INFORMATION-TECHNOLOGY       0.53      0.88      0.67        26\n",
      "      PUBLIC-RELATIONS       0.57      0.76      0.65        17\n",
      "                 SALES       0.55      0.72      0.63        29\n",
      "               TEACHER       0.64      0.73      0.68        22\n",
      "\n",
      "              accuracy                           0.65       497\n",
      "             macro avg       0.65      0.58      0.58       497\n",
      "          weighted avg       0.67      0.65      0.64       497\n",
      "\n",
      "\n",
      "Training: SVM (LinearSVC)\n"
     ]
    },
    {
     "name": "stderr",
     "output_type": "stream",
     "text": [
      "C:\\Users\\Hp\\anaconda3\\Lib\\site-packages\\sklearn\\metrics\\_classification.py:1344: UndefinedMetricWarning: Precision and F-score are ill-defined and being set to 0.0 in labels with no predicted samples. Use `zero_division` parameter to control this behavior.\n",
      "  _warn_prf(average, modifier, msg_start, len(result))\n",
      "C:\\Users\\Hp\\anaconda3\\Lib\\site-packages\\sklearn\\metrics\\_classification.py:1344: UndefinedMetricWarning: Precision and F-score are ill-defined and being set to 0.0 in labels with no predicted samples. Use `zero_division` parameter to control this behavior.\n",
      "  _warn_prf(average, modifier, msg_start, len(result))\n",
      "C:\\Users\\Hp\\anaconda3\\Lib\\site-packages\\sklearn\\metrics\\_classification.py:1344: UndefinedMetricWarning: Precision and F-score are ill-defined and being set to 0.0 in labels with no predicted samples. Use `zero_division` parameter to control this behavior.\n",
      "  _warn_prf(average, modifier, msg_start, len(result))\n"
     ]
    },
    {
     "name": "stdout",
     "output_type": "stream",
     "text": [
      "Accuracy: 0.6801\n",
      "Classification Report:\n",
      "                         precision    recall  f1-score   support\n",
      "\n",
      "            ACCOUNTANT       0.79      0.93      0.86        29\n",
      "              ADVOCATE       0.69      0.73      0.71        30\n",
      "           AGRICULTURE       0.50      0.12      0.20         8\n",
      "               APPAREL       0.58      0.55      0.56        20\n",
      "                  ARTS       0.43      0.17      0.24        18\n",
      "            AUTOMOBILE       0.50      0.33      0.40         6\n",
      "              AVIATION       0.72      0.86      0.78        21\n",
      "               BANKING       0.81      0.74      0.77        23\n",
      "                   BPO       0.33      0.50      0.40         2\n",
      "  BUSINESS-DEVELOPMENT       0.76      0.48      0.59        27\n",
      "                  CHEF       0.85      0.71      0.77        24\n",
      "          CONSTRUCTION       0.88      0.82      0.85        34\n",
      "            CONSULTANT       0.50      0.25      0.33        20\n",
      "              DESIGNER       0.76      0.84      0.80        19\n",
      "         DIGITAL-MEDIA       0.86      0.76      0.81        25\n",
      "           ENGINEERING       0.54      0.67      0.60        21\n",
      "               FINANCE       0.63      0.63      0.63        19\n",
      "               FITNESS       0.86      0.63      0.73        19\n",
      "            HEALTHCARE       0.39      0.55      0.46        20\n",
      "                    HR       0.76      0.89      0.82        18\n",
      "INFORMATION-TECHNOLOGY       0.59      0.88      0.71        26\n",
      "      PUBLIC-RELATIONS       0.68      0.76      0.72        17\n",
      "                 SALES       0.61      0.66      0.63        29\n",
      "               TEACHER       0.58      0.82      0.68        22\n",
      "\n",
      "              accuracy                           0.68       497\n",
      "             macro avg       0.65      0.64      0.63       497\n",
      "          weighted avg       0.68      0.68      0.67       497\n",
      "\n"
     ]
    }
   ],
   "source": [
    "models = {\n",
    "    \"Naive Bayes\": MultinomialNB(),\n",
    "    \"Logistic Regression\": LogisticRegression(max_iter=1000),\n",
    "    \"SVM (LinearSVC)\": LinearSVC()\n",
    "}\n",
    "\n",
    "results = {}\n",
    "\n",
    "for name, model in models.items():\n",
    "    print(f\"\\nTraining: {name}\")\n",
    "    model.fit(X_train, y_train)\n",
    "    y_pred = model.predict(X_test)\n",
    "\n",
    "    acc = accuracy_score(y_test, y_pred)\n",
    "    cm = confusion_matrix(y_test, y_pred)\n",
    "    results[name] = {\"accuracy\": acc, \"confusion_matrix\": cm}\n",
    "\n",
    "    print(f\"Accuracy: {acc:.4f}\")\n",
    "    print(\"Classification Report:\\n\", classification_report(y_test, y_pred))\n"
   ]
  },
  {
   "cell_type": "code",
   "execution_count": 13,
   "id": "f4945fc3-7bfc-441c-8bf6-abe1f8f29bea",
   "metadata": {},
   "outputs": [
    {
     "name": "stdout",
     "output_type": "stream",
     "text": [
      "(2484, 3)\n",
      "(1987, 3000) (497, 3000)\n"
     ]
    }
   ],
   "source": [
    "print(df.shape)\n",
    "print(X_train.shape, X_test.shape)\n"
   ]
  },
  {
   "cell_type": "markdown",
   "id": "46c48e07-c930-4069-a14f-cc030100cd92",
   "metadata": {},
   "source": [
    "### Visualize Confusion Matrices"
   ]
  },
  {
   "cell_type": "code",
   "execution_count": 20,
   "id": "b39630fe-0bda-4736-9c68-f23d5f92215d",
   "metadata": {},
   "outputs": [
    {
     "data": {
      "image/png": "[encoded data removed]",
      "text/plain": [
       "<Figure size 1800x500 with 6 Axes>"
      ]
     },
     "metadata": {},
     "output_type": "display_data"
    }
   ],
   "source": [
    "fig, axes = plt.subplots(1, 3, figsize=(18, 5))\n",
    "\n",
    "for i, (name, result) in enumerate(results.items()):\n",
    "    sns.heatmap(result[\"confusion_matrix\"], annot=True, fmt=\"d\", cmap=\"Blues\", ax=axes[i])\n",
    "    axes[i].set_title(f\"{name} (Acc: {result['accuracy']:.2f})\")\n",
    "    axes[i].set_xlabel(\"Predicted\")\n",
    "    axes[i].set_ylabel(\"Actual\")\n",
    "\n",
    "plt.tight_layout()\n",
    "plt.show()\n"
   ]
  },
  {
   "cell_type": "markdown",
   "id": "746ce2a5-e587-4dbd-b396-ebc2373b5e43",
   "metadata": {},
   "source": [
    "### Save Model and Vectorizer"
   ]
  },
  {
   "cell_type": "code",
   "execution_count": 21,
   "id": "18e57e52-5c43-4baa-8018-8887d58f2e02",
   "metadata": {},
   "outputs": [],
   "source": [
    "import pickle\n",
    "\n",
    "# Choose your best model (e.g., Naive Bayes here)\n",
    "best_model = models[\"Naive Bayes\"]\n",
    "\n",
    "# Save model and vectorizer\n",
    "with open(\"resume_model.pkl\", \"wb\") as f:\n",
    "    pickle.dump(best_model, f)\n",
    "\n",
    "with open(\"tfidf_vectorizer.pkl\", \"wb\") as f:\n",
    "    pickle.dump(tfidf, f)\n"
   ]
  },
  {
   "cell_type": "code",
   "execution_count": null,
   "id": "e3d4dedd-b30d-4552-a1e4-6d6606e28eb4",
   "metadata": {},
   "outputs": [],
   "source": []
  }
 ],
 "metadata": {
  "kernelspec": {
   "display_name": "Python 3 (ipykernel)",
   "language": "python",
   "name": "python3"
  },
  "language_info": {
   "codemirror_mode": {
    "name": "ipython",
    "version": 3
   },
   "file_extension": ".py",
   "mimetype": "text/x-python",
   "name": "python",
   "nbconvert_exporter": "python",
   "pygments_lexer": "ipython3",
   "version": "3.11.7"
  }
 },
 "nbformat": 4,
 "nbformat_minor": 5
}
